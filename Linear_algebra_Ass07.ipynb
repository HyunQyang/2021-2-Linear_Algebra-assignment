{
 "cells": [
  {
   "cell_type": "code",
   "execution_count": 9,
   "metadata": {},
   "outputs": [],
   "source": [
    "import numpy as np\n",
    "import math"
   ]
  },
  {
   "cell_type": "markdown",
   "metadata": {},
   "source": [
    "# Question 21"
   ]
  },
  {
   "cell_type": "code",
   "execution_count": 10,
   "metadata": {},
   "outputs": [
    {
     "name": "stdout",
     "output_type": "stream",
     "text": [
      "(1): 2.23606797749979\n",
      "(2): 5.385164807134504\n",
      "(3): 1.7320508075688772\n"
     ]
    }
   ],
   "source": [
    "#Q.21\n",
    "#21-1\n",
    "A = np.array([[2],[-1]])\n",
    "Anorm = np.linalg.norm(A)\n",
    "print(\"(1):\",Anorm)\n",
    "#22-2\n",
    "B = np.array([[4],[2],[3]])\n",
    "Bnorm = np.linalg.norm(B)\n",
    "print(\"(2):\",Bnorm)\n",
    "#22-3\n",
    "C = np.array([[1],[-1],[1]])\n",
    "Cnorm = np.linalg.norm(C)\n",
    "print(\"(3):\",Cnorm)\n",
    "#22-4\n",
    "#D = np.array([[],[],[]])\n",
    "#Dnorm = np.linalg.norm(D)\n",
    "#print(\"(4):\",Dnorm)"
   ]
  },
  {
   "cell_type": "markdown",
   "metadata": {},
   "source": [
    "# Question 22"
   ]
  },
  {
   "cell_type": "code",
   "execution_count": 11,
   "metadata": {},
   "outputs": [
    {
     "name": "stdout",
     "output_type": "stream",
     "text": [
      "(1): -4\n",
      "(2): 3\n",
      "(3): 7\n",
      "(4): 0\n"
     ]
    }
   ],
   "source": [
    "#Q.22\n",
    "#22-1\n",
    "u = np.array([2,-2])\n",
    "v = np.array([1,3])\n",
    "print(\"(1):\",np.vdot(u,v))\n",
    "\n",
    "#22-2\n",
    "u1 = np.array([2,-2,3])\n",
    "v1 = np.array([-2,1,3])\n",
    "nd = np.vdot(u1,v1)\n",
    "print(\"(2):\",nd)\n",
    "\n",
    "#22-3\n",
    "u2 = np.array([1,2,-1,3])\n",
    "v2 = np.array([2,-3,1,4])\n",
    "print(\"(3):\",np.vdot(u2,v2))\n",
    "\n",
    "#22-4\n",
    "u3 = np.array([2,-2,4])\n",
    "v3 = np.array([-1,1,1])\n",
    "print(\"(4):\",np.vdot(u3,v3))"
   ]
  },
  {
   "cell_type": "markdown",
   "metadata": {},
   "source": [
    "# Question  "
   ]
  },
  {
   "cell_type": "code",
   "execution_count": 38,
   "metadata": {},
   "outputs": [
    {
     "name": "stdout",
     "output_type": "stream",
     "text": [
      "(1) 7.0710678118654755\n",
      "(2): 12\n",
      "(3): 3\n"
     ]
    }
   ],
   "source": [
    "#(a)\n",
    "def norm(*args):\n",
    "    if len(args) != 2:\n",
    "        A = np.linalg.norm(args[0])\n",
    "        return A\n",
    "    elif args[1] == 1:\n",
    "        B = abs(args[0])\n",
    "        C = sum(B)\n",
    "        return C\n",
    "    elif args[1] == np.inf:\n",
    "        C = np.max(args[0])\n",
    "        return C\n",
    "\n",
    "\n",
    "A= np.array([-4,3,-5])\n",
    "\n",
    "print(\"(1)\",norm(A))\n",
    "print(\"(2):\",norm(A,1))\n",
    "print(\"(3):\",norm(A,np.inf))\n"
   ]
  }
 ],
 "metadata": {
  "kernelspec": {
   "display_name": "Python 3",
   "language": "python",
   "name": "python3"
  },
  "language_info": {
   "codemirror_mode": {
    "name": "ipython",
    "version": 3
   },
   "file_extension": ".py",
   "mimetype": "text/x-python",
   "name": "python",
   "nbconvert_exporter": "python",
   "pygments_lexer": "ipython3",
   "version": "3.8.5"
  }
 },
 "nbformat": 4,
 "nbformat_minor": 4
}
