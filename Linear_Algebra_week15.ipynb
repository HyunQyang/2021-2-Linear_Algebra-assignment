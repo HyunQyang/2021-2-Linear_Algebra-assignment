{
 "cells": [
  {
   "cell_type": "code",
   "execution_count": 2,
   "metadata": {},
   "outputs": [],
   "source": [
    "import numpy as np\n",
    "import math"
   ]
  },
  {
   "cell_type": "markdown",
   "metadata": {},
   "source": [
    "## Q.7"
   ]
  },
  {
   "cell_type": "code",
   "execution_count": 4,
   "metadata": {},
   "outputs": [],
   "source": [
    "u = np.array([[1-2j],[-3j],[2+4j]])\n",
    "v = np.array([[4j],[1+3j],[2-4j]])"
   ]
  },
  {
   "cell_type": "markdown",
   "metadata": {},
   "source": [
    "### Q.7 -(A)"
   ]
  },
  {
   "cell_type": "code",
   "execution_count": 8,
   "metadata": {},
   "outputs": [
    {
     "name": "stdout",
     "output_type": "stream",
     "text": [
      "-------answer of (a)------ \n",
      " [[ 1.+2.j]\n",
      " [-0.+3.j]\n",
      " [ 2.-4.j]]\n"
     ]
    }
   ],
   "source": [
    "print('-------answer of (a)------ \\n',np.conjugate(u))"
   ]
  },
  {
   "cell_type": "markdown",
   "metadata": {},
   "source": [
    "### Q.7-(b)"
   ]
  },
  {
   "cell_type": "code",
   "execution_count": 9,
   "metadata": {},
   "outputs": [
    {
     "name": "stdout",
     "output_type": "stream",
     "text": [
      "------answer of (b)-----\n",
      " [[1.+2.j]\n",
      " [1.+0.j]\n",
      " [4.+0.j]]\n"
     ]
    }
   ],
   "source": [
    "print('------answer of (b)-----\\n',u+v)"
   ]
  },
  {
   "cell_type": "markdown",
   "metadata": {},
   "source": [
    "### Q.7-(c)"
   ]
  },
  {
   "cell_type": "code",
   "execution_count": 11,
   "metadata": {},
   "outputs": [
    {
     "name": "stdout",
     "output_type": "stream",
     "text": [
      "-----answer of (c)------\n",
      " [[ 12. +4.j]\n",
      " [ 10. +0.j]\n",
      " [-10.-10.j]]\n"
     ]
    }
   ],
   "source": [
    "print('-----answer of (c)------\\n', (1-3j)*v)"
   ]
  },
  {
   "cell_type": "markdown",
   "metadata": {},
   "source": [
    "### Q.7-(d)"
   ]
  },
  {
   "cell_type": "code",
   "execution_count": 12,
   "metadata": {},
   "outputs": [
    {
     "name": "stdout",
     "output_type": "stream",
     "text": [
      "-----answer of (d)------\n",
      " [[  4.-10.j]\n",
      " [  3. -9.j]\n",
      " [-14.+16.j]]\n"
     ]
    }
   ],
   "source": [
    "print('-----answer of (d)------\\n',((2j)*u) + ((-3)*v))"
   ]
  },
  {
   "cell_type": "markdown",
   "metadata": {},
   "source": [
    "## Q.8"
   ]
  },
  {
   "cell_type": "markdown",
   "metadata": {},
   "source": [
    "### Q.8-(a)"
   ]
  },
  {
   "cell_type": "code",
   "execution_count": 13,
   "metadata": {},
   "outputs": [],
   "source": [
    "x = np.array([[4+2j],[3]])\n",
    "y = np.array([[2-1j],[3+4j]])\n"
   ]
  },
  {
   "cell_type": "code",
   "execution_count": 21,
   "metadata": {},
   "outputs": [
    {
     "name": "stdout",
     "output_type": "stream",
     "text": [
      "inner product =  (15+4j)\n",
      "x's norm =  5.385164807134504\n",
      "y's norm =  5.477225575051661\n"
     ]
    }
   ],
   "source": [
    "print('inner product = ',np.vdot(x,y))\n",
    "print(\"x's norm = \",np.linalg.norm(x))\n",
    "print(\"y's norm = \",np.linalg.norm(y))"
   ]
  },
  {
   "cell_type": "markdown",
   "metadata": {},
   "source": [
    "### Q.8-(b)"
   ]
  },
  {
   "cell_type": "code",
   "execution_count": 28,
   "metadata": {},
   "outputs": [],
   "source": [
    "x = np.array([[3-4j],[1+6j],[2+2j]])\n",
    "y = np.array([[1-1j],[2-4j],[5]])"
   ]
  },
  {
   "cell_type": "code",
   "execution_count": 29,
   "metadata": {},
   "outputs": [
    {
     "name": "stdout",
     "output_type": "stream",
     "text": [
      "inner product (-5-25j)\n",
      "x's norm 8.366600265340756\n",
      "y's norm 6.855654600401044\n"
     ]
    }
   ],
   "source": [
    "print('inner product',np.vdot(x,y))\n",
    "print(\"x's norm\",np.linalg.norm(x))\n",
    "print(\"y's norm\",np.linalg.norm(y))"
   ]
  },
  {
   "cell_type": "markdown",
   "metadata": {},
   "source": [
    "## Q.10"
   ]
  },
  {
   "cell_type": "code",
   "execution_count": 30,
   "metadata": {},
   "outputs": [],
   "source": [
    "a = 2-3j\n",
    "b = 1+1j"
   ]
  },
  {
   "cell_type": "markdown",
   "metadata": {},
   "source": [
    "### Q.10 -(a)"
   ]
  },
  {
   "cell_type": "code",
   "execution_count": 40,
   "metadata": {},
   "outputs": [
    {
     "name": "stdout",
     "output_type": "stream",
     "text": [
      "answer of (a) = (2+3j)\n"
     ]
    }
   ],
   "source": [
    "print('answer of (a) =',np.conjugate(a))"
   ]
  },
  {
   "cell_type": "markdown",
   "metadata": {},
   "source": [
    "### Q.10-(b)"
   ]
  },
  {
   "cell_type": "code",
   "execution_count": 35,
   "metadata": {},
   "outputs": [
    {
     "name": "stdout",
     "output_type": "stream",
     "text": [
      "answer of (b) = (5-1j)\n"
     ]
    }
   ],
   "source": [
    "print('answer of (b) =',(a*b))"
   ]
  },
  {
   "cell_type": "markdown",
   "metadata": {},
   "source": [
    "### Q.10 -(c)"
   ]
  },
  {
   "cell_type": "code",
   "execution_count": 37,
   "metadata": {},
   "outputs": [
    {
     "name": "stdout",
     "output_type": "stream",
     "text": [
      "answer of (c) = 3.605551275463989\n"
     ]
    }
   ],
   "source": [
    "print('answer of (c) =',np.linalg.norm(a))"
   ]
  },
  {
   "cell_type": "markdown",
   "metadata": {},
   "source": [
    "### Q.10-(d)"
   ]
  },
  {
   "cell_type": "code",
   "execution_count": 41,
   "metadata": {},
   "outputs": [
    {
     "name": "stdout",
     "output_type": "stream",
     "text": [
      "answer of (d) = (2+0j)\n"
     ]
    }
   ],
   "source": [
    "print('answer of (d) =',(np.conjugate(b) * b))"
   ]
  }
 ],
 "metadata": {
  "kernelspec": {
   "display_name": "Python 3",
   "language": "python",
   "name": "python3"
  },
  "language_info": {
   "codemirror_mode": {
    "name": "ipython",
    "version": 3
   },
   "file_extension": ".py",
   "mimetype": "text/x-python",
   "name": "python",
   "nbconvert_exporter": "python",
   "pygments_lexer": "ipython3",
   "version": "3.8.5"
  }
 },
 "nbformat": 4,
 "nbformat_minor": 4
}
