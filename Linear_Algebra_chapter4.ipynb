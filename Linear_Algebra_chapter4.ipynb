{
 "cells": [
  {
   "cell_type": "code",
   "execution_count": 14,
   "metadata": {},
   "outputs": [],
   "source": [
    "import numpy as np"
   ]
  },
  {
   "cell_type": "code",
   "execution_count": 15,
   "metadata": {},
   "outputs": [],
   "source": [
    "def pprint(msg,A):\n",
    "    print(\"---\",msg,\"---\")\n",
    "    (n,m) = A.shape\n",
    "    for i in range(0,n):\n",
    "        line = \"\"\n",
    "        for j in range(0,m):\n",
    "            line += \"{0:.2f}\".format(A[i,j])+\"\\t\"\n",
    "        print(line)\n",
    "    print(\"\")"
   ]
  },
  {
   "cell_type": "code",
   "execution_count": 5,
   "metadata": {},
   "outputs": [
    {
     "name": "stdout",
     "output_type": "stream",
     "text": [
      "--- inverse matrix of 7-(a) ---\n",
      "2.00\t-3.00\t\n",
      "-2.50\t4.00\t\n",
      "\n"
     ]
    }
   ],
   "source": [
    "#7-(a) \n",
    "A = np.array([[8,6],[5,4]])\n",
    "Ainv = np.linalg.inv(A)\n",
    "pprint(\"inverse matrix of 7-(a)\",Ainv)"
   ]
  },
  {
   "cell_type": "code",
   "execution_count": 6,
   "metadata": {},
   "outputs": [
    {
     "name": "stdout",
     "output_type": "stream",
     "text": [
      "--- inverse matix of 7-(c) ---\n",
      "1.00\t1.00\t\n",
      "-2.00\t-2.33\t\n",
      "\n"
     ]
    }
   ],
   "source": [
    "#7-(c)\n",
    "B = np.array([[7,3],[-6,-3]])\n",
    "Binv = np.linalg.inv(B)\n",
    "pprint(\"inverse matix of 7-(c)\",Binv )"
   ]
  },
  {
   "cell_type": "code",
   "execution_count": 7,
   "metadata": {},
   "outputs": [
    {
     "name": "stdout",
     "output_type": "stream",
     "text": [
      "---  C*I  ---\n",
      "2.00\t-1.00\t\n",
      "-1.50\t0.50\t\n",
      "\n"
     ]
    }
   ],
   "source": [
    "#8-(a)\n",
    "C = np.array([[-1,-2],[-3,-4]])\n",
    "Cinv = np.linalg.inv(C)\n",
    "pprint(\" C*I \",Cinv)"
   ]
  },
  {
   "cell_type": "code",
   "execution_count": 18,
   "metadata": {},
   "outputs": [
    {
     "name": "stdout",
     "output_type": "stream",
     "text": [
      "--- inverse matirx 0f 8-(b) ---\n",
      "1.00\t-2.00\t\n",
      "-0.50\t1.50\t\n",
      "\n"
     ]
    }
   ],
   "source": [
    "#8-(b)\n",
    "B = np.array([[3,4],[1,2]])\n",
    "Binv = np.linalg.inv(B)\n",
    "pprint(\"inverse matirx 0f 8-(b)\",Binv)"
   ]
  },
  {
   "cell_type": "code",
   "execution_count": 9,
   "metadata": {},
   "outputs": [
    {
     "name": "stdout",
     "output_type": "stream",
     "text": [
      "--- C ---\n",
      "-1.00\t\n",
      "1.00\t\n",
      "-0.00\t\n",
      "\n"
     ]
    }
   ],
   "source": [
    "#12-(a)\n",
    "A = np.array([[1,2,3],[2,5,3],[1,0,8]])\n",
    "B = np.array([[1],[3],[-1]])\n",
    "C = np.matmul(np.linalg.inv(A),B)\n",
    "pprint(\"C\",C)"
   ]
  },
  {
   "cell_type": "code",
   "execution_count": 10,
   "metadata": {},
   "outputs": [
    {
     "name": "stdout",
     "output_type": "stream",
     "text": [
      "--- B ---\n",
      "-16.00\t11.50\t\n",
      "-18.00\t13.00\t\n",
      "\n"
     ]
    }
   ],
   "source": [
    "#13-(a)\n",
    "X = np.array([[10,7],[14,10]])\n",
    "Y = np.array([[1,3],[2,4]])\n",
    "B = np.matmul(Y,np.linalg.inv(X)) \n",
    "pprint(\"B\",B)"
   ]
  },
  {
   "cell_type": "code",
   "execution_count": 11,
   "metadata": {
    "scrolled": true
   },
   "outputs": [
    {
     "name": "stdout",
     "output_type": "stream",
     "text": [
      "--- s ---\n",
      "1.00\t1.00\t1.00\t\n",
      "2.00\t3.00\t2.00\t\n",
      "3.00\t8.00\t2.00\t\n",
      "\n"
     ]
    }
   ],
   "source": [
    "#13-(e)\n",
    "X = np.array([[1,1,1],[2,3,2],[3,8,2]])\n",
    "Y = np.array([[2,-1,5],[5,-2,11],[11,-3,18]])\n",
    "B = np.matmul(Y,np.linalg.inv(X))\n",
    "pprint(\"s\",X)"
   ]
  },
  {
   "cell_type": "code",
   "execution_count": 21,
   "metadata": {},
   "outputs": [
    {
     "name": "stdout",
     "output_type": "stream",
     "text": [
      "--- asdf ---\n",
      "-8.00\t-15.00\t12.00\t\n",
      "4.00\t6.00\t-5.00\t\n",
      "-1.00\t-1.00\t1.00\t\n",
      "\n",
      "--- safd ---\n",
      "1.00\t0.00\t0.00\t\n",
      "0.00\t1.00\t0.00\t\n",
      "0.00\t0.00\t1.00\t\n",
      "\n"
     ]
    }
   ],
   "source": [
    "# 15-(c)\n",
    "X = np.array([[1,3,3],[1,4,8],[2,7,12]])\n",
    "Y = np.array([[0],[0],[0]])\n",
    "z = np.linalg.inv(X)\n",
    "pprint(\"inverse of A\",z)\n",
    "a = np.matmul(z,X)\n",
    "pprint(\"result\",a)"
   ]
  }
 ],
 "metadata": {
  "kernelspec": {
   "display_name": "Python 3",
   "language": "python",
   "name": "python3"
  },
  "language_info": {
   "codemirror_mode": {
    "name": "ipython",
    "version": 3
   },
   "file_extension": ".py",
   "mimetype": "text/x-python",
   "name": "python",
   "nbconvert_exporter": "python",
   "pygments_lexer": "ipython3",
   "version": "3.8.5"
  }
 },
 "nbformat": 4,
 "nbformat_minor": 4
}
