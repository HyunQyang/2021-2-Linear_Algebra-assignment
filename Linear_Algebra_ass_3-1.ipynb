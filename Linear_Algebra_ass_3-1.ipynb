{
 "cells": [
  {
   "cell_type": "code",
   "execution_count": 4,
   "metadata": {},
   "outputs": [],
   "source": [
    "import numpy as np"
   ]
  },
  {
   "cell_type": "code",
   "execution_count": 5,
   "metadata": {},
   "outputs": [
    {
     "name": "stdout",
     "output_type": "stream",
     "text": [
      "벡터의 결합에 의한 행렬 생성\n"
     ]
    }
   ],
   "source": [
    "#행렬 에 필요한 벡터들 생성\n",
    "print(\"벡터의 결합에 의한 행렬 생성\")\n",
    "v1 = np.array([1,2,3])\n",
    "v2 = np.array([4,5,6])\n",
    "v3 = np.array([7,8,9])"
   ]
  },
  {
   "cell_type": "code",
   "execution_count": 6,
   "metadata": {},
   "outputs": [
    {
     "name": "stdout",
     "output_type": "stream",
     "text": [
      "A= [[1 2 3]\n",
      " [4 5 6]\n",
      " [7 8 9]]\n"
     ]
    }
   ],
   "source": [
    "#v1 v2 v3를 행으로 하는 행렬A생성\n",
    "A = np.vstack([v1,v2,v3])\n",
    "print(\"A=\",A)"
   ]
  },
  {
   "cell_type": "code",
   "execution_count": 7,
   "metadata": {},
   "outputs": [
    {
     "name": "stdout",
     "output_type": "stream",
     "text": [
      "B= [[1 4 7]\n",
      " [2 5 8]\n",
      " [3 6 9]]\n"
     ]
    }
   ],
   "source": [
    "# v1 v2 v3를 열로 하는 행렬B생성\n",
    "B = np.column_stack([v1,v2,v3])\n",
    "print(\"B=\",B)"
   ]
  },
  {
   "cell_type": "code",
   "execution_count": 8,
   "metadata": {},
   "outputs": [
    {
     "name": "stdout",
     "output_type": "stream",
     "text": [
      "C=  [[1 2]\n",
      " [3 4]\n",
      " [5 6]]\n"
     ]
    }
   ],
   "source": [
    "#행렬C생성\n",
    "C = np.array([[1,2],[3,4],[5,6]])\n",
    "print(\"C= \",C)"
   ]
  },
  {
   "cell_type": "code",
   "execution_count": 10,
   "metadata": {},
   "outputs": [
    {
     "name": "stdout",
     "output_type": "stream",
     "text": [
      "D=  [[1 2 7]\n",
      " [3 4 8]\n",
      " [5 6 9]]\n"
     ]
    }
   ],
   "source": [
    "#C에 v3를 열로 추가하여 D 생성\n",
    "D = np.column_stack([C,v3])\n",
    "print(\"D= \",D)"
   ]
  },
  {
   "cell_type": "code",
   "execution_count": 11,
   "metadata": {},
   "outputs": [
    {
     "name": "stdout",
     "output_type": "stream",
     "text": [
      "행렬의 성분 접근\n"
     ]
    }
   ],
   "source": [
    "print(\"행렬의 성분 접근\")\n",
    "E = np.array([[1,2,3,4],[5,6,7,8],[9,10,11,12]])"
   ]
  },
  {
   "cell_type": "code",
   "execution_count": 13,
   "metadata": {},
   "outputs": [
    {
     "name": "stdout",
     "output_type": "stream",
     "text": [
      "E[0,3] = 4\n",
      "E[1,2] = 7\n"
     ]
    }
   ],
   "source": [
    "print(\"E[0,3] =\",E[0,3]) #1row 4column\n",
    "print(\"E[1,2] =\",E[1,2]) #2row 3column"
   ]
  },
  {
   "cell_type": "code",
   "execution_count": 16,
   "metadata": {},
   "outputs": [
    {
     "name": "stdout",
     "output_type": "stream",
     "text": [
      "E[0:2,2] = [3 7]\n",
      "E[0:2, 2:4] = [[3 4]\n",
      " [7 8]]\n",
      "E[2,:]= [ 9 10 11 12]\n"
     ]
    }
   ],
   "source": [
    "print(\"E[0:2,2] =\",E[0:2,2]) #E의 1~2행 3열에 해당하는 부분행렬\n",
    "print(\"E[0:2, 2:4] =\",E[0:2, 2:4]) #E의 1~2행 3~4열에 해당하는 부분행렬\n",
    "print(\"E[2,:]=\",E[2,:]) #E의 3행에 해당하는 부분행렬"
   ]
  },
  {
   "cell_type": "code",
   "execution_count": 17,
   "metadata": {},
   "outputs": [
    {
     "name": "stdout",
     "output_type": "stream",
     "text": [
      "성분의 변경\n",
      "E=  [[ 1  2  3  4]\n",
      " [ 5  6  7  8]\n",
      " [ 9 10 11 12]]\n"
     ]
    }
   ],
   "source": [
    "print(\"성분의 변경\")\n",
    "print(\"E= \",E)"
   ]
  },
  {
   "cell_type": "code",
   "execution_count": 18,
   "metadata": {},
   "outputs": [
    {
     "name": "stdout",
     "output_type": "stream",
     "text": [
      "E[0,0] =  1\n",
      "[[-1  2  3  4]\n",
      " [ 5  6  7  8]\n",
      " [ 9 10 11 12]]\n",
      "E[0,0]= -1\n"
     ]
    }
   ],
   "source": [
    "#E의 1행 1열 성분을 -1로 변경\n",
    "print(\"E[0,0] = \",E[0,0])\n",
    "E[0,0] = -1\n",
    "print(E)\n",
    "print(\"E[0,0]=\",E[0,0])"
   ]
  }
 ],
 "metadata": {
  "kernelspec": {
   "display_name": "Python 3",
   "language": "python",
   "name": "python3"
  },
  "language_info": {
   "codemirror_mode": {
    "name": "ipython",
    "version": 3
   },
   "file_extension": ".py",
   "mimetype": "text/x-python",
   "name": "python",
   "nbconvert_exporter": "python",
   "pygments_lexer": "ipython3",
   "version": "3.8.5"
  }
 },
 "nbformat": 4,
 "nbformat_minor": 4
}
