{
 "cells": [
  {
   "cell_type": "code",
   "execution_count": 1,
   "metadata": {},
   "outputs": [],
   "source": [
    "import numpy as np"
   ]
  },
  {
   "cell_type": "code",
   "execution_count": 3,
   "metadata": {},
   "outputs": [],
   "source": [
    "#행렬 A를 출력하는 함수\n",
    "def pprint(msg,A):\n",
    "    print(\"---\",msg,\"---\")\n",
    "    (n,m) = A.shape\n",
    "    for i in range(0,n):\n",
    "        line = \"\"\n",
    "        for j in range(0,m):\n",
    "            line += \"{0:.2f}\".format(A[i,j])+\"\\t\"\n",
    "        print(line)\n",
    "    print(\"\")"
   ]
  },
  {
   "cell_type": "code",
   "execution_count": 6,
   "metadata": {},
   "outputs": [],
   "source": [
    "#행렬 생성.\n",
    "A = np.array([[1.,2.],[3.,3.]])\n",
    "B = np.array([[2.,2.],[1.,3.]])\n",
    "C = np.array([[4.,5.,6.],[7.,8.,9.]])\n",
    "v = np.array([[10.],[20.]])"
   ]
  },
  {
   "cell_type": "code",
   "execution_count": 8,
   "metadata": {},
   "outputs": [
    {
     "name": "stdout",
     "output_type": "stream",
     "text": [
      "--- A+B ---\n",
      "3.00\t4.00\t\n",
      "4.00\t6.00\t\n",
      "\n",
      "--- A-B ---\n",
      "-1.00\t0.00\t\n",
      "2.00\t0.00\t\n",
      "\n"
     ]
    }
   ],
   "source": [
    "#행렬의 합과 차\n",
    "pprint(\"A+B\",A+B)\n",
    "pprint(\"A-B\",A-B)"
   ]
  },
  {
   "cell_type": "code",
   "execution_count": 9,
   "metadata": {},
   "outputs": [
    {
     "name": "stdout",
     "output_type": "stream",
     "text": [
      "--- 3*A ---\n",
      "3.00\t6.00\t\n",
      "9.00\t9.00\t\n",
      "\n",
      "--- 2*v ---\n",
      "20.00\t\n",
      "40.00\t\n",
      "\n"
     ]
    }
   ],
   "source": [
    "#행렬과 벡터의 스칼라배\n",
    "pprint(\"3*A\",3 * A)\n",
    "pprint(\"2*v\",2 * v)"
   ]
  },
  {
   "cell_type": "code",
   "execution_count": 12,
   "metadata": {},
   "outputs": [
    {
     "name": "stdout",
     "output_type": "stream",
     "text": [
      "--- matful(A,B) ---\n",
      "4.00\t8.00\t\n",
      "9.00\t15.00\t\n",
      "\n",
      "--- matful(A,C) ---\n",
      "18.00\t21.00\t24.00\t\n",
      "33.00\t39.00\t45.00\t\n",
      "\n",
      "--- A*v ---\n",
      "10.00\t20.00\t\n",
      "60.00\t60.00\t\n",
      "\n"
     ]
    }
   ],
   "source": [
    "#행렬과 벡터의 곱셈.\n",
    "pprint(\"matful(A,B)\",np.matmul(A,B))\n",
    "pprint(\"matful(A,C)\",np.matmul(A,C))\n",
    "pprint(\"A*v\",A*v)"
   ]
  },
  {
   "cell_type": "code",
   "execution_count": 14,
   "metadata": {},
   "outputs": [
    {
     "name": "stdout",
     "output_type": "stream",
     "text": [
      "--- matrix_power(A,2) ---\n",
      "7.00\t8.00\t\n",
      "12.00\t15.00\t\n",
      "\n",
      "--- matrix_power(A,3) ---\n",
      "31.00\t38.00\t\n",
      "57.00\t69.00\t\n",
      "\n"
     ]
    }
   ],
   "source": [
    "#행렬의 거듭 제곱\n",
    "pprint(\"matrix_power(A,2)\",np.linalg.matrix_power(A,2))\n",
    "pprint(\"matrix_power(A,3)\",np.linalg.matrix_power(A,3))"
   ]
  },
  {
   "cell_type": "code",
   "execution_count": 16,
   "metadata": {},
   "outputs": [
    {
     "name": "stdout",
     "output_type": "stream",
     "text": [
      "--- A*B ---\n",
      "2.00\t4.00\t\n",
      "3.00\t9.00\t\n",
      "\n",
      "--- A/B ---\n",
      "0.50\t1.00\t\n",
      "3.00\t1.00\t\n",
      "\n",
      "--- A**2 ==A*A ---\n",
      "1.00\t4.00\t\n",
      "9.00\t9.00\t\n",
      "\n"
     ]
    }
   ],
   "source": [
    "#행렬 성분별 곱셈 나눗셈 거듭제곱.\n",
    "pprint(\"A*B\",A*B)\n",
    "pprint(\"A/B\",A/B)\n",
    "pprint(\"A**2 ==A*A\",A**2)"
   ]
  },
  {
   "cell_type": "code",
   "execution_count": 17,
   "metadata": {},
   "outputs": [
    {
     "name": "stdout",
     "output_type": "stream",
     "text": [
      "--- A.T ---\n",
      "1.00\t3.00\t\n",
      "2.00\t3.00\t\n",
      "\n",
      "--- v.T ---\n",
      "10.00\t20.00\t\n",
      "\n"
     ]
    }
   ],
   "source": [
    "#행렬과 벡터의 전치.\n",
    "pprint(\"A.T\",A.T)\n",
    "pprint(\"v.T\",v.T)"
   ]
  },
  {
   "cell_type": "code",
   "execution_count": 18,
   "metadata": {},
   "outputs": [
    {
     "name": "stdout",
     "output_type": "stream",
     "text": [
      "--- diag(1,2,3) = ---\n",
      "1.00\t0.00\t0.00\t\n",
      "0.00\t2.00\t0.00\t\n",
      "0.00\t0.00\t3.00\t\n",
      "\n"
     ]
    }
   ],
   "source": [
    "#대각 행렬\n",
    "M = np.diag([1,2,3])\n",
    "pprint(\"diag(1,2,3) =\",M)"
   ]
  },
  {
   "cell_type": "code",
   "execution_count": 21,
   "metadata": {},
   "outputs": [
    {
     "name": "stdout",
     "output_type": "stream",
     "text": [
      "--- block matrix ---\n",
      "1.00\t2.00\t5.00\t\n",
      "3.00\t4.00\t6.00\t\n",
      "7.00\t7.00\t8.00\t\n",
      "\n"
     ]
    }
   ],
   "source": [
    "#블록행렬\n",
    "D11 =np.array([[1,2],[3,4]])\n",
    "D12 =np.array([[5],[6]])\n",
    "D21 =np.array([[7,7]])\n",
    "D22 =np.array([[8]])\n",
    "D=np.block([[D11,D12],[D21,D22]])\n",
    "pprint(\"block matrix\",D)"
   ]
  }
 ],
 "metadata": {
  "kernelspec": {
   "display_name": "Python 3",
   "language": "python",
   "name": "python3"
  },
  "language_info": {
   "codemirror_mode": {
    "name": "ipython",
    "version": 3
   },
   "file_extension": ".py",
   "mimetype": "text/x-python",
   "name": "python",
   "nbconvert_exporter": "python",
   "pygments_lexer": "ipython3",
   "version": "3.8.5"
  }
 },
 "nbformat": 4,
 "nbformat_minor": 4
}
