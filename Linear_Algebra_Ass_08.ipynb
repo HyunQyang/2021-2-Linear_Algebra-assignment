{
 "cells": [
  {
   "cell_type": "markdown",
   "metadata": {},
   "source": [
    "#linear_algebra 08"
   ]
  },
  {
   "cell_type": "code",
   "execution_count": 1,
   "metadata": {},
   "outputs": [],
   "source": [
    "import numpy as np"
   ]
  },
  {
   "cell_type": "markdown",
   "metadata": {},
   "source": [
    "## Question 40"
   ]
  },
  {
   "cell_type": "code",
   "execution_count": 2,
   "metadata": {},
   "outputs": [
    {
     "name": "stdout",
     "output_type": "stream",
     "text": [
      "[-13 -14   3]\n",
      "[13 14 -3]\n",
      "[0 0 0]\n",
      "[0 5 5]\n"
     ]
    }
   ],
   "source": [
    "# Q.40\n",
    "\n",
    "#40-1\n",
    "u1 = np.array([2,-1,4])\n",
    "v1 = np.array([-1,2,5])\n",
    "a1 = np.cross(u1,v1)\n",
    "print(a1)\n",
    "\n",
    "#40-2\n",
    "u2 = np.array([-1,2,5])\n",
    "v2 = np.array([2,-1,4])\n",
    "a2 = np.cross(u2,v2)\n",
    "print(a2)\n",
    "\n",
    "#40-3\n",
    "u3 = np.array([0,0,0])\n",
    "v3 = np.array([1,2,1])\n",
    "a3 = np.cross(u3,v3)\n",
    "print(a3)\n",
    "\n",
    "#40-4\n",
    "u4 = np.array([2,1,-1])\n",
    "v4 = np.array([-1,2,-2])\n",
    "a4 = np.cross(u4,v4)\n",
    "print(a4)\n"
   ]
  },
  {
   "cell_type": "markdown",
   "metadata": {},
   "source": [
    "## Question 44번\n"
   ]
  },
  {
   "cell_type": "code",
   "execution_count": 3,
   "metadata": {},
   "outputs": [
    {
     "name": "stdout",
     "output_type": "stream",
     "text": [
      "1.7320508075688772\n"
     ]
    }
   ],
   "source": [
    "#Q.44\n",
    "O = np.array([0,0,0])\n",
    "A = np.array([1,1,0])\n",
    "B = np.array([0,1,1])\n",
    "C = np.array([1,2,1])\n",
    "\n",
    "OA = O - A\n",
    "OB = O - B\n",
    "Cross = np.cross(OA,OB)\n",
    "norm = np.linalg.norm(Cross)\n",
    "print(norm)"
   ]
  },
  {
   "cell_type": "markdown",
   "metadata": {},
   "source": [
    "## Question 45번"
   ]
  },
  {
   "cell_type": "code",
   "execution_count": 4,
   "metadata": {},
   "outputs": [
    {
     "name": "stdout",
     "output_type": "stream",
     "text": [
      "38.13135192987524\n",
      "37.99999999999999\n"
     ]
    }
   ],
   "source": [
    "#Q,45\n",
    "O = np.array([0,0,0])\n",
    "A = np.array([4,2,1])\n",
    "B = np.array([1,3,2])\n",
    "C = np.array([2,2,5])\n",
    "\n",
    "OA = A - O\n",
    "OB = B - O\n",
    "OC = C - O\n",
    "\n",
    "cross = np.cross(OB,OC)\n",
    "nrom = np.linalg.norm(cross)\n",
    "norm = np.cross(OA,cross)\n",
    "n = np.linalg.norm(norm)\n",
    "print(n)\n",
    "\n",
    "a = np.linalg.det([[4,2,1],[1,3,2],[2,2,5]])\n",
    "print(a)"
   ]
  },
  {
   "cell_type": "markdown",
   "metadata": {},
   "source": [
    "## Question 47번"
   ]
  },
  {
   "cell_type": "code",
   "execution_count": 5,
   "metadata": {},
   "outputs": [
    {
     "name": "stdout",
     "output_type": "stream",
     "text": [
      "(A): -65.99999999999997\n",
      "(B): 2.9999999999999996\n",
      "(C): 0.0\n",
      "(D): 0.0\n"
     ]
    }
   ],
   "source": [
    "#Q.47\n",
    "#47-1\n",
    "a = np.linalg.det([[2,0,3],[0,6,2],[3,3,0]])\n",
    "print(\"(A):\",a)\n",
    "#47-2\n",
    "b = np.linalg.det([[1,1,0],[-1,0,1],[2,3,4]])\n",
    "print(\"(B):\",b)\n",
    "#47-3\n",
    "c = np.linalg.det([[0,1,1],[1,2,3],[0,0,0]])\n",
    "print(\"(C):\",c)\n",
    "#47-4\n",
    "d = np.linalg.det([[0,0,0],[1,2,3],[2,3,4]])\n",
    "print(\"(D):\",d)"
   ]
  }
 ],
 "metadata": {
  "kernelspec": {
   "display_name": "Python 3",
   "language": "python",
   "name": "python3"
  },
  "language_info": {
   "codemirror_mode": {
    "name": "ipython",
    "version": 3
   },
   "file_extension": ".py",
   "mimetype": "text/x-python",
   "name": "python",
   "nbconvert_exporter": "python",
   "pygments_lexer": "ipython3",
   "version": "3.8.5"
  }
 },
 "nbformat": 4,
 "nbformat_minor": 4
}
