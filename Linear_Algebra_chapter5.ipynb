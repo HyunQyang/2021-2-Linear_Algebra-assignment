{
 "cells": [
  {
   "cell_type": "code",
   "execution_count": 4,
   "metadata": {},
   "outputs": [],
   "source": [
    "import numpy as np"
   ]
  },
  {
   "cell_type": "code",
   "execution_count": 13,
   "metadata": {},
   "outputs": [],
   "source": [
    "def getMinorMatrix(A,j,i):\n",
    "    n =len(A)\n",
    "    M = np.zeros((n-1,n-1))\n",
    "    for a in range(0,n-1):\n",
    "        k = a if (a<i) else a+1\n",
    "        for b in range(0,n-1):\n",
    "            l = b if (b<j) else b+1\n",
    "            M[a,b] = A[k,l]\n",
    "    return M"
   ]
  },
  {
   "cell_type": "code",
   "execution_count": 30,
   "metadata": {},
   "outputs": [],
   "source": [
    "def determinant(M):\n",
    "    if len(M) ==2:\n",
    "        return M[0,0]*M[1,1]-M[0,1]*M[1,0]\n",
    "    detval =0\n",
    "    for c in range(len(M)):\n",
    "        detval += ((-1)**c)*M[0,c]*det(getMinorMatrix(M,0,c))\n",
    "    return detval"
   ]
  },
  {
   "cell_type": "code",
   "execution_count": 31,
   "metadata": {},
   "outputs": [
    {
     "name": "stdout",
     "output_type": "stream",
     "text": [
      "det(A) =  6\n"
     ]
    }
   ],
   "source": [
    "#2 -(a)\n",
    "A = np.array([[2,1],[4,5]])\n",
    "print(\"det(A) = \",determinant(A))"
   ]
  },
  {
   "cell_type": "code",
   "execution_count": 32,
   "metadata": {},
   "outputs": [
    {
     "name": "stdout",
     "output_type": "stream",
     "text": [
      "det(B) =  25\n"
     ]
    }
   ],
   "source": [
    "#2-(b)\n",
    "B = np.array([[4,3],[1,7]])\n",
    "print(\"det(B) = \",determinant(B))"
   ]
  },
  {
   "cell_type": "code",
   "execution_count": 49,
   "metadata": {},
   "outputs": [
    {
     "name": "stdout",
     "output_type": "stream",
     "text": [
      "det(C) = 24.0\n"
     ]
    }
   ],
   "source": [
    "#3-(A)\n",
    "C = np.array([[5,2,3],[3,-1,1],[6,4,2]])\n",
    "det_c = \"det(C) = {:.1f}\".format(np.linalg.det(C))\n",
    "print(det_c)"
   ]
  },
  {
   "cell_type": "code",
   "execution_count": 51,
   "metadata": {},
   "outputs": [
    {
     "name": "stdout",
     "output_type": "stream",
     "text": [
      "det(C) = -20.0\n"
     ]
    }
   ],
   "source": [
    "#3-(B)\n",
    "D = np.array([[3,2,3],[6,1,2],[1,2,5]])\n",
    "det_d = \"det(C) = {:.1f}\".format(np.linalg.det(D))\n",
    "print(det_d)"
   ]
  },
  {
   "cell_type": "code",
   "execution_count": 56,
   "metadata": {},
   "outputs": [
    {
     "name": "stdout",
     "output_type": "stream",
     "text": [
      "det(A) = 3.0\n"
     ]
    }
   ],
   "source": [
    "#7-(a)\n",
    "A =np.array([[1,5,-6],[-1,-4,4],[-2,-7,9]])\n",
    "det_a = \"det(A) = {:.1f}\".format(np.linalg.det(A))\n",
    "print(det_a)"
   ]
  },
  {
   "cell_type": "code",
   "execution_count": 58,
   "metadata": {},
   "outputs": [
    {
     "name": "stdout",
     "output_type": "stream",
     "text": [
      "det(A) = -0.0\n"
     ]
    }
   ],
   "source": [
    "#8-(a)\n",
    "A = np.array([[1,3,0,2],[-2,-5,7,4],[3,5,2,1],[1,-1,2,-3]])\n",
    "det_a = \"det(A) = {:.1f}\".format(np.linalg.det(A))\n",
    "print(det_a)"
   ]
  },
  {
   "cell_type": "code",
   "execution_count": 60,
   "metadata": {},
   "outputs": [
    {
     "name": "stdout",
     "output_type": "stream",
     "text": [
      "det(C) = 187.0\n"
     ]
    }
   ],
   "source": [
    "#19-(c)\n",
    "C = np.array([[5,6,0,0],[3,7,0,0],[1,2,2,1],[3,1,3,7]])\n",
    "det_c = \"det(C) = {:.1f}\".format(np.linalg.det(C))\n",
    "print(det_c)"
   ]
  },
  {
   "cell_type": "code",
   "execution_count": 67,
   "metadata": {},
   "outputs": [
    {
     "name": "stdout",
     "output_type": "stream",
     "text": [
      "[[ 3. -5. -5.]\n",
      " [-3.  4.  5.]\n",
      " [ 2. -2. -3.]]\n"
     ]
    }
   ],
   "source": [
    "from numpy.linalg import inv\n",
    "a=np.array([[2,5,5],[-1,-1,0],[2,4,3]])\n",
    "ainv = inv(a)\n",
    "print(ainv)"
   ]
  },
  {
   "cell_type": "code",
   "execution_count": null,
   "metadata": {},
   "outputs": [],
   "source": []
  }
 ],
 "metadata": {
  "kernelspec": {
   "display_name": "Python 3",
   "language": "python",
   "name": "python3"
  },
  "language_info": {
   "codemirror_mode": {
    "name": "ipython",
    "version": 3
   },
   "file_extension": ".py",
   "mimetype": "text/x-python",
   "name": "python",
   "nbconvert_exporter": "python",
   "pygments_lexer": "ipython3",
   "version": "3.8.5"
  }
 },
 "nbformat": 4,
 "nbformat_minor": 4
}
