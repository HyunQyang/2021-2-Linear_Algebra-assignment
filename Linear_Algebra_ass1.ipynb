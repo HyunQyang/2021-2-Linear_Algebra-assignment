{
 "cells": [
  {
   "cell_type": "code",
   "execution_count": 9,
   "metadata": {},
   "outputs": [],
   "source": [
    "import numpy as np"
   ]
  },
  {
   "cell_type": "code",
   "execution_count": 10,
   "metadata": {},
   "outputs": [],
   "source": [
    "#print function\n",
    "def pprint(msg,A):\n",
    "    print(\"---\",msg,\"---\")\n",
    "    (n,m) = A.shape\n",
    "    for i in range(0,n):\n",
    "        line = \"\"\n",
    "        for j in range(0,m):\n",
    "            line += \"{0:.2f}\".format(A[i,j]) +\"\\t\"\n",
    "        print(line)\n",
    "    print(\"\")"
   ]
  },
  {
   "cell_type": "code",
   "execution_count": 12,
   "metadata": {},
   "outputs": [
    {
     "name": "stdout",
     "output_type": "stream",
     "text": [
      "--- A ---\n",
      "1.00\t2.00\t\n",
      "3.00\t4.00\t\n",
      "\n"
     ]
    }
   ],
   "source": [
    "#make matrix\n",
    "A = np.array([[1.,2.],[3.,4.]])\n",
    "pprint(\"A\",A)"
   ]
  },
  {
   "cell_type": "code",
   "execution_count": 15,
   "metadata": {},
   "outputs": [
    {
     "name": "stdout",
     "output_type": "stream",
     "text": [
      "--- linalg.matrix_power(A,-1) => Ainv1 ---\n",
      "-2.00\t1.00\t\n",
      "1.50\t-0.50\t\n",
      "\n"
     ]
    }
   ],
   "source": [
    "Ainv1 =np.linalg.matrix_power(A,-1)\n",
    "pprint(\"linalg.matrix_power(A,-1) => Ainv1\",Ainv1)"
   ]
  },
  {
   "cell_type": "code",
   "execution_count": 13,
   "metadata": {},
   "outputs": [
    {
     "name": "stdout",
     "output_type": "stream",
     "text": [
      "--- np.linalg.inv(A) => Ainv2 ---\n",
      "-2.00\t1.00\t\n",
      "1.50\t-0.50\t\n",
      "\n"
     ]
    }
   ],
   "source": [
    "Ainv2 = np.linalg.inv(A)\n",
    "pprint(\"np.linalg.inv(A) => Ainv2\",Ainv2)"
   ]
  },
  {
   "cell_type": "code",
   "execution_count": 16,
   "metadata": {},
   "outputs": [
    {
     "name": "stdout",
     "output_type": "stream",
     "text": [
      "--- A*Ainv1 ---\n",
      "1.00\t0.00\t\n",
      "0.00\t1.00\t\n",
      "\n",
      "--- A*Ainv2 ---\n",
      "1.00\t0.00\t\n",
      "0.00\t1.00\t\n",
      "\n"
     ]
    }
   ],
   "source": [
    "# matrix * invert matrix\n",
    "pprint(\"A*Ainv1\",np.matmul(A,Ainv1))\n",
    "pprint(\"A*Ainv2\",np.matmul(A,Ainv2))"
   ]
  },
  {
   "cell_type": "code",
   "execution_count": 17,
   "metadata": {},
   "outputs": [
    {
     "name": "stdout",
     "output_type": "stream",
     "text": [
      "--- B= ---\n",
      "0.08\t0.14\t0.01\t\n",
      "0.87\t0.54\t0.98\t\n",
      "0.32\t0.50\t0.29\t\n",
      "\n",
      "--- Binv= ---\n",
      "19.40\t2.03\t-7.56\t\n",
      "-3.30\t-1.23\t4.24\t\n",
      "-15.36\t-0.10\t4.35\t\n",
      "\n",
      "--- B*Binv =  ---\n",
      "1.00\t0.00\t0.00\t\n",
      "-0.00\t1.00\t0.00\t\n",
      "-0.00\t0.00\t1.00\t\n",
      "\n"
     ]
    }
   ],
   "source": [
    "B = np.random.rand(3,3)\n",
    "pprint(\"B=\",B)\n",
    "Binv=np.linalg.inv(B)\n",
    "pprint(\"Binv=\",Binv)\n",
    "pprint(\"B*Binv = \",np.matmul(B,Binv))"
   ]
  },
  {
   "cell_type": "code",
   "execution_count": 20,
   "metadata": {},
   "outputs": [
    {
     "name": "stdout",
     "output_type": "stream",
     "text": [
      "--- x ---\n",
      "1.31\t\n",
      "-0.38\t\n",
      "-0.31\t\n",
      "-0.77\t\n",
      "\n",
      "--- C*x  ---\n",
      "4.00\t\n",
      "2.00\t\n",
      "5.00\t\n",
      "1.00\t\n",
      "\n"
     ]
    }
   ],
   "source": [
    "C = np.array([[5,3,2,1],[6,2,4,5],[7,4,1,3],[4,3,5,2]])\n",
    "D = np.array([[4],[2],[5],[1]])\n",
    "x = np.matmul(np.linalg.inv(C),D)\n",
    "pprint(\"x\",x)\n",
    "pprint(\"C*x \",np.matmul(C,x))"
   ]
  }
 ],
 "metadata": {
  "kernelspec": {
   "display_name": "Python 3",
   "language": "python",
   "name": "python3"
  },
  "language_info": {
   "codemirror_mode": {
    "name": "ipython",
    "version": 3
   },
   "file_extension": ".py",
   "mimetype": "text/x-python",
   "name": "python",
   "nbconvert_exporter": "python",
   "pygments_lexer": "ipython3",
   "version": "3.8.5"
  }
 },
 "nbformat": 4,
 "nbformat_minor": 4
}
