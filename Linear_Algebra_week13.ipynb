{
 "cells": [
  {
   "cell_type": "code",
   "execution_count": 2,
   "metadata": {},
   "outputs": [],
   "source": [
    "import numpy as np"
   ]
  },
  {
   "cell_type": "markdown",
   "metadata": {},
   "source": [
    "## Q.29-(A)"
   ]
  },
  {
   "cell_type": "code",
   "execution_count": 9,
   "metadata": {},
   "outputs": [
    {
     "name": "stdout",
     "output_type": "stream",
     "text": [
      " 계수: 2\n"
     ]
    }
   ],
   "source": [
    "A = np.array([[1,2,4,4],[3,4,8,0]])\n",
    "rank_a = np.linalg.matrix_rank(A)\n",
    "print(' 계수:',rank_a)"
   ]
  },
  {
   "cell_type": "markdown",
   "metadata": {},
   "source": [
    "## Q.29-(B)"
   ]
  },
  {
   "cell_type": "code",
   "execution_count": 10,
   "metadata": {},
   "outputs": [
    {
     "name": "stdout",
     "output_type": "stream",
     "text": [
      " 계수: 2\n"
     ]
    }
   ],
   "source": [
    "B = np.array([[1,2,3],[2,3,5],[3,4,7],[4,5,9]])\n",
    "rank_b = np.linalg.matrix_rank(B)\n",
    "print(' 계수:',rank_b)"
   ]
  },
  {
   "cell_type": "markdown",
   "metadata": {},
   "source": [
    "## Q.30-(a)"
   ]
  },
  {
   "cell_type": "code",
   "execution_count": 12,
   "metadata": {},
   "outputs": [
    {
     "name": "stdout",
     "output_type": "stream",
     "text": [
      " 계수: 3\n"
     ]
    }
   ],
   "source": [
    "A = np.array([[1,2,1,5],[2,4,-3,0],[-3,1,2,-1],[1,2,-1,1]])\n",
    "rank_a = np.linalg.matrix_rank(A)\n",
    "print(' 계수:',rank_a)"
   ]
  },
  {
   "cell_type": "markdown",
   "metadata": {},
   "source": [
    "## Q.30-(b)"
   ]
  },
  {
   "cell_type": "code",
   "execution_count": 13,
   "metadata": {},
   "outputs": [
    {
     "name": "stdout",
     "output_type": "stream",
     "text": [
      " 계수: 2\n"
     ]
    }
   ],
   "source": [
    "B = np.array([[1,-2,1],[1,-1,3],[1,1,7]])\n",
    "rank_b = np.linalg.matrix_rank(B)\n",
    "print(' 계수:',rank_b)"
   ]
  },
  {
   "cell_type": "markdown",
   "metadata": {},
   "source": [
    "## Q.31-(A)"
   ]
  },
  {
   "cell_type": "code",
   "execution_count": 14,
   "metadata": {},
   "outputs": [
    {
     "name": "stdout",
     "output_type": "stream",
     "text": [
      " 계수: 2\n"
     ]
    }
   ],
   "source": [
    "A = np.array([[1,2,6],[-2,-4,12]])\n",
    "rank_a = np.linalg.matrix_rank(A)\n",
    "print(' 계수:',rank_a)"
   ]
  },
  {
   "cell_type": "markdown",
   "metadata": {},
   "source": [
    "## Q.31-(B)"
   ]
  },
  {
   "cell_type": "code",
   "execution_count": 15,
   "metadata": {},
   "outputs": [
    {
     "name": "stdout",
     "output_type": "stream",
     "text": [
      " 계수: 1\n"
     ]
    }
   ],
   "source": [
    "B = np.array([[1,1,0],[1,1,0]])\n",
    "rank_b = np.linalg.matrix_rank(B)\n",
    "print(' 계수:',rank_b)"
   ]
  },
  {
   "cell_type": "markdown",
   "metadata": {},
   "source": [
    "## Q.32 -(A)"
   ]
  },
  {
   "cell_type": "code",
   "execution_count": 16,
   "metadata": {},
   "outputs": [
    {
     "name": "stdout",
     "output_type": "stream",
     "text": [
      " 계수: 3\n"
     ]
    }
   ],
   "source": [
    "A = np.array([[1,3,4],[2,3,1],[3,6,2]])\n",
    "rank_a = np.linalg.matrix_rank(A)\n",
    "print(' 계수:',rank_a)"
   ]
  },
  {
   "cell_type": "markdown",
   "metadata": {},
   "source": [
    "## Q.32-(B)"
   ]
  },
  {
   "cell_type": "code",
   "execution_count": 17,
   "metadata": {},
   "outputs": [
    {
     "name": "stdout",
     "output_type": "stream",
     "text": [
      " 계수: 1\n"
     ]
    }
   ],
   "source": [
    "B = np.array([[2],[3],[1]])\n",
    "rank_b = np.linalg.matrix_rank(B)\n",
    "print(' 계수:',rank_b)"
   ]
  },
  {
   "cell_type": "markdown",
   "metadata": {},
   "source": [
    "## Q.33-(A)"
   ]
  },
  {
   "cell_type": "code",
   "execution_count": 19,
   "metadata": {},
   "outputs": [
    {
     "name": "stdout",
     "output_type": "stream",
     "text": [
      " 계수: 3\n",
      " 계수: 1\n"
     ]
    }
   ],
   "source": [
    "A = np.array([[1,0,-3],[-3,1,6],[2,-2,1]])\n",
    "rank_a = np.linalg.matrix_rank(A)\n",
    "print(' 계수:',rank_a)\n",
    "\n",
    "B = np.array([[2],[3],[1]])\n",
    "rank_b = np.linalg.matrix_rank(B)\n",
    "print(' 계수:',rank_b)\n"
   ]
  },
  {
   "cell_type": "markdown",
   "metadata": {},
   "source": [
    "## Q.33-(D)"
   ]
  },
  {
   "cell_type": "code",
   "execution_count": 22,
   "metadata": {},
   "outputs": [
    {
     "name": "stdout",
     "output_type": "stream",
     "text": [
      " 계수: 3\n",
      " 계수: 1\n"
     ]
    }
   ],
   "source": [
    "A = np.array([[1,-3,-2],[3,8,8],[0,1,2],[1,0,8]])\n",
    "rank_a = np.linalg.matrix_rank(A)\n",
    "print(' 계수:',rank_a)\n",
    "\n",
    "B = np.array([[1],[6],[3],[4]])\n",
    "rank_b = np.linalg.matrix_rank(B)\n",
    "print(' 계수:',rank_b)\n"
   ]
  },
  {
   "cell_type": "markdown",
   "metadata": {},
   "source": [
    "## Q.35"
   ]
  },
  {
   "cell_type": "code",
   "execution_count": 23,
   "metadata": {},
   "outputs": [
    {
     "name": "stdout",
     "output_type": "stream",
     "text": [
      " 계수: 3\n"
     ]
    }
   ],
   "source": [
    "A = np.array([[2,5,-3,-4,8],[4,7,-4,-3,9],[6,9,-5,2,4],[0,-9,6,5,-6]])\n",
    "rank_a = np.linalg.matrix_rank(A)\n",
    "print(' 계수:',rank_a)"
   ]
  }
 ],
 "metadata": {
  "kernelspec": {
   "display_name": "Python 3",
   "language": "python",
   "name": "python3"
  },
  "language_info": {
   "codemirror_mode": {
    "name": "ipython",
    "version": 3
   },
   "file_extension": ".py",
   "mimetype": "text/x-python",
   "name": "python",
   "nbconvert_exporter": "python",
   "pygments_lexer": "ipython3",
   "version": "3.8.5"
  }
 },
 "nbformat": 4,
 "nbformat_minor": 4
}
