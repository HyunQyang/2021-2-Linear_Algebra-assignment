{
 "cells": [
  {
   "cell_type": "code",
   "execution_count": 1,
   "metadata": {},
   "outputs": [],
   "source": [
    "import numpy as np\n",
    "import matplotlib.pyplot as plt\n",
    "import imageio as im\n",
    "import PyQt5"
   ]
  },
  {
   "cell_type": "code",
   "execution_count": 11,
   "metadata": {},
   "outputs": [],
   "source": [
    "def linear_transformation(src, a):  # 선형변환 수행 함수\n",
    "    M, N, _ = src.shape  # M : y축 방향 크기, N : x축 방향 크기\n",
    "    corners = np.array([[0, 0, N-1, N-1], [0, M-1, 0, M-1]])  # 이미지 코너 위치\n",
    "    new_points = a.dot(corners).astype(int)  # 코너 위치의 선형변환 결과\n",
    "    \n",
    "    xcoord = new_points[0,:]  # x축 좌푯값\n",
    "    ycoord = new_points[1,:]  # y축 좌푯값\n",
    "    minx = np.amin(xcoord)\n",
    "    maxx = np.amax(xcoord)\n",
    "    miny = np.amin(ycoord)\n",
    "    maxy = np.amax(ycoord)\n",
    "    \n",
    "    newN = maxx-minx+1  # 선형변환 후 x축 방향 이미지 크기\n",
    "    newM = maxy-miny+1  # 선형변환 후 y축 방향 이미지 크기\n",
    "    dest = np.full((newM, newN, 3), 200)  # 출력 이미지 생성\n",
    "    y = miny\n",
    "    for i in range(newM):\n",
    "        x = minx\n",
    "        for j in range(newN):\n",
    "            pts = np.array([[x], [y]])\n",
    "            # 출력 이미지의 (x,y) 위치에 대응하는 원본 이미지의 위치 계산 : 역행렬 사용\n",
    "            newpts = np.linalg.inv(a).dot(pts).round().astype(int)\n",
    "            if (newpts[0] >= 0 and newpts[0] < N and newpts[1] >= 0 and newpts[1] < M):\n",
    "                dest[i, j, :] = src[newpts[1], newpts[0],:]\n",
    "            x = x+1\n",
    "        y = y+1\n",
    "    return dest"
   ]
  },
  {
   "cell_type": "code",
   "execution_count": 12,
   "metadata": {},
   "outputs": [],
   "source": [
    "def translate(src, d):  #d[0]: x축 이동, d[1]: y축 이동\n",
    "    M, N, _ = src.shape\n",
    "    steps = np.absolute(d)\n",
    "    \n",
    "    newM = M + 2*steps[1]\n",
    "    newN = N + 2*steps[0]\n",
    "    dest = np.full((newM, newN, 3), 200)  # 출력 이미지 생성\n",
    "    for i in range(newM):\n",
    "        for j in range(newN):\n",
    "            yp = i-d[0]\n",
    "            xp = j-d[1]\n",
    "            if xp >= 0 and xp < N and yp >= 0 and yp < M:\n",
    "                dest[i, j, :] = src[yp, xp, :]\n",
    "    return dest"
   ]
  },
  {
   "cell_type": "code",
   "execution_count": 13,
   "metadata": {},
   "outputs": [],
   "source": [
    "%matplotlib qt\n",
    "src = im.imread('Cat.jpg')  # 이미지 파일 읽기\n",
    "plt.subplot(3, 2, 1)  # 3행 2열로 분할하여 첫 번째 위치 선택\n",
    "plt.title('original')  # 제목 출력\n",
    "plt.imshow(src)  # 이미지 출력\n",
    "\n",
    "# x축 방향으로 1.5배 확대, y축 방향으로 0.8배 축소\n",
    "a = np.array([[1.5, 0], [0, 0.8]])\n",
    "dst = linear_transformation(src, a)\n",
    "plt.subplot(3, 2, 2)\n",
    "plt.title('scaled by 1.5 and 0.8')\n",
    "plt.imshow(dst)\n",
    "\n",
    "# 반시계 방향으로 45도 회전\n",
    "alpha = np.pi/4\n",
    "a = np.array([[np.cos(alpha), -np.sin(alpha)], [np.sin(alpha), np.cos(alpha)]])\n",
    "dst = linear_transformation(src, a)\n",
    "plt.subplot(3, 2, 3)\n",
    "plt.title('Rotation by 45 counterclockwise')\n",
    "plt.imshow(dst)\n",
    "\n",
    "# x축을 기준으로 반사\n",
    "a = np.array([[1, 0], [0, -1]])\n",
    "dst = linear_transformation(src, a)\n",
    "plt.subplot(3, 2, 4)\n",
    "plt.title('Reflection about the x-axis')\n",
    "plt.imshow(dst)\n",
    "\n",
    "# x축 방향으로 +y/2만큼 층밀림\n",
    "a = np.array([[1, .5], [0, 1]])\n",
    "dst = linear_transformation(src, a)\n",
    "plt.subplot(3, 2, 5)\n",
    "plt.title('shearing in the x-axis with +y/2')\n",
    "plt.imshow(dst)\n",
    "\n",
    "# x축 방향으로 40, y축 방향으로 20만큼 평행이동\n",
    "dst = translate(src, [40, 20])\n",
    "plt.subplot(3, 2, 6)\n",
    "plt.title('translate by(40, 20)')\n",
    "plt.imshow(dst)\n",
    "plt.show()  # 화면에 보이기"
   ]
  }
 ],
 "metadata": {
  "kernelspec": {
   "display_name": "Python 3",
   "language": "python",
   "name": "python3"
  },
  "language_info": {
   "codemirror_mode": {
    "name": "ipython",
    "version": 3
   },
   "file_extension": ".py",
   "mimetype": "text/x-python",
   "name": "python",
   "nbconvert_exporter": "python",
   "pygments_lexer": "ipython3",
   "version": "3.8.5"
  }
 },
 "nbformat": 4,
 "nbformat_minor": 4
}
