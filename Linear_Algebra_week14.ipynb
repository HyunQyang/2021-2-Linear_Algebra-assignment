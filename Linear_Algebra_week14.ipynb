{
 "cells": [
  {
   "cell_type": "code",
   "execution_count": 1,
   "metadata": {},
   "outputs": [],
   "source": [
    "import numpy as np"
   ]
  },
  {
   "cell_type": "markdown",
   "metadata": {},
   "source": [
    "## Q.6 -(a)\n"
   ]
  },
  {
   "cell_type": "code",
   "execution_count": 4,
   "metadata": {},
   "outputs": [
    {
     "name": "stdout",
     "output_type": "stream",
     "text": [
      "[ 0.56155281 -3.56155281]\n",
      "[[ 0.87192821  0.27032301]\n",
      " [-0.48963374  0.96276969]]\n"
     ]
    }
   ],
   "source": [
    "A = np.array([[0,-1],[-2,-3]])\n",
    "w,v = np.linalg.eig(A)\n",
    "print(w)\n",
    "print(v)"
   ]
  },
  {
   "cell_type": "markdown",
   "metadata": {},
   "source": [
    "## Q.6-(b)"
   ]
  },
  {
   "cell_type": "code",
   "execution_count": 6,
   "metadata": {},
   "outputs": [
    {
     "name": "stdout",
     "output_type": "stream",
     "text": [
      "[2. 3.]\n",
      "[[-0.70710678  0.4472136 ]\n",
      " [ 0.70710678 -0.89442719]]\n"
     ]
    }
   ],
   "source": [
    "B = np.array([[1,-1],[2,4]])\n",
    "w1,v1 = np.linalg.eig(B)\n",
    "print(w1)\n",
    "print(v1)"
   ]
  },
  {
   "cell_type": "markdown",
   "metadata": {},
   "source": [
    "## Q.6-(C)"
   ]
  },
  {
   "cell_type": "code",
   "execution_count": 9,
   "metadata": {},
   "outputs": [
    {
     "name": "stdout",
     "output_type": "stream",
     "text": [
      "[2. 3.]\n",
      "[[-0.70710678  0.4472136 ]\n",
      " [ 0.70710678 -0.89442719]]\n"
     ]
    }
   ],
   "source": [
    "C = np.array([[1,2,2],[0,2,1],[-1,2,2]])\n",
    "w2,v2 = np.linalg.eig(B)\n",
    "print(w2)\n",
    "print(v2)"
   ]
  },
  {
   "cell_type": "markdown",
   "metadata": {},
   "source": [
    "## Q.6-(D)"
   ]
  },
  {
   "cell_type": "code",
   "execution_count": 11,
   "metadata": {},
   "outputs": [
    {
     "name": "stdout",
     "output_type": "stream",
     "text": [
      "[2. 3. 1.]\n",
      "[[-6.66666667e-01 -4.08248290e-01  7.07106781e-01]\n",
      " [ 3.33333333e-01  4.08248290e-01 -7.07106781e-01]\n",
      " [ 6.66666667e-01  8.16496581e-01  1.75541673e-16]]\n"
     ]
    }
   ],
   "source": [
    "D = np.array([[1,0,-1],[1,2,1],[2,2,3]])\n",
    "w3,v3 = np.linalg.eig(D)\n",
    "print(w3)\n",
    "print(v3)"
   ]
  },
  {
   "cell_type": "markdown",
   "metadata": {},
   "source": [
    "## Q.6-(E)"
   ]
  },
  {
   "cell_type": "code",
   "execution_count": 12,
   "metadata": {},
   "outputs": [
    {
     "name": "stdout",
     "output_type": "stream",
     "text": [
      "[ 4.+0.00000000e+00j -2.+1.10465796e-15j -2.-1.10465796e-15j]\n",
      "[[-0.40824829+0.j          0.24400118-0.40702229j  0.24400118+0.40702229j]\n",
      " [-0.40824829+0.j         -0.41621909-0.40702229j -0.41621909+0.40702229j]\n",
      " [-0.81649658+0.j         -0.66022027+0.j         -0.66022027-0.j        ]]\n"
     ]
    }
   ],
   "source": [
    "E = np.array([[1,-3,3],[3,-5,3],[6,-6,4]])\n",
    "w4,v4 = np.linalg.eig(E)\n",
    "print(w4)\n",
    "print(v4)"
   ]
  },
  {
   "cell_type": "markdown",
   "metadata": {},
   "source": [
    "## Q.6-(F)"
   ]
  },
  {
   "cell_type": "code",
   "execution_count": 13,
   "metadata": {},
   "outputs": [
    {
     "name": "stdout",
     "output_type": "stream",
     "text": [
      "[ 4.+0.00000000e+00j -2.+1.10465796e-15j -2.-1.10465796e-15j]\n",
      "[[-0.40824829+0.j          0.24400118-0.40702229j  0.24400118+0.40702229j]\n",
      " [-0.40824829+0.j         -0.41621909-0.40702229j -0.41621909+0.40702229j]\n",
      " [-0.81649658+0.j         -0.66022027+0.j         -0.66022027-0.j        ]]\n"
     ]
    }
   ],
   "source": [
    "F = np.array([[1,-1,0],[-1,2,-1],[0,-1,1]])\n",
    "w5,v5 = np.linalg.eig(E)\n",
    "print(w5)\n",
    "print(v5)"
   ]
  },
  {
   "cell_type": "code",
   "execution_count": null,
   "metadata": {},
   "outputs": [],
   "source": []
  },
  {
   "cell_type": "code",
   "execution_count": null,
   "metadata": {},
   "outputs": [],
   "source": []
  }
 ],
 "metadata": {
  "kernelspec": {
   "display_name": "Python 3",
   "language": "python",
   "name": "python3"
  },
  "language_info": {
   "codemirror_mode": {
    "name": "ipython",
    "version": 3
   },
   "file_extension": ".py",
   "mimetype": "text/x-python",
   "name": "python",
   "nbconvert_exporter": "python",
   "pygments_lexer": "ipython3",
   "version": "3.8.5"
  }
 },
 "nbformat": 4,
 "nbformat_minor": 4
}
